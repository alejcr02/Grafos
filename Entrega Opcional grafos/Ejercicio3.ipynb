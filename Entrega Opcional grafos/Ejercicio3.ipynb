{
 "cells": [
  {
   "cell_type": "code",
   "execution_count": 1,
   "metadata": {},
   "outputs": [],
   "source": [
    "from pyspark import SparkContext\n",
    "sc = SparkContext()"
   ]
  },
  {
   "cell_type": "code",
   "execution_count": 3,
   "metadata": {},
   "outputs": [],
   "source": [
    "def get_edges(line):\n",
    "    edge = line.strip().split(',')\n",
    "    n1 = edge[0]\n",
    "    n2 = edge[1]\n",
    "    if n1 < n2:\n",
    "         return (n1,n2)\n",
    "    elif n1 > n2:\n",
    "         return (n2,n1)\n",
    "    else:\n",
    "        pass #n1 == n2\n",
    "\n",
    "def lista_aristas_dep(tupla):\n",
    "    aristas = []\n",
    "    for i in range(len(tupla[1])):\n",
    "        aristas.append(((tupla[0][0],tupla[1][i][0],tupla[0][1]),('exists')))\n",
    "        for j in range(i+1,len(tupla[1])):\n",
    "            if tupla[1][i][0]< tupla[1][j][0]:\n",
    "                aristas.append(((tupla[1][i][0],tupla[1][j][0],tupla[0][1]),('pending',tupla[0][0])))\n",
    "            else:\n",
    "                aristas.append(((tupla[1][j][0],tupla[1][i][0],tupla[0][1]),('pending',tupla[0][0])))\n",
    "    return aristas\n",
    "\n",
    "def filtro(tupla):\n",
    "    return (len(tupla[1]) >=2 and 'exists' in tupla[1])\n",
    "\n",
    "def triciclos(h):\n",
    "    l = []\n",
    "    for i in h[1]:\n",
    "        if i != 'exists':\n",
    "            l.append(((i[1],h[0][0],h[0][1]),h[0][2]))\n",
    "    return l\n",
    "\n",
    "def principal(sc,files):\n",
    "    rdd = sc.parallelize([])\n",
    "    for file_name in files:    \n",
    "        file_rdd = sc.textFile(file_name).\\\n",
    "            map(get_edges).\\\n",
    "            filter(lambda x: x is not None).\\\n",
    "            distinct().map(lambda x: ((x[0],file_name),(x[1],file_name)))\n",
    "        rdd = rdd.union(file_rdd).distinct()\n",
    "    adj = rdd.groupByKey().mapValues(list).flatMap(lista_aristas_dep).\\\n",
    "        groupByKey().mapValues(list).filter(filtro).flatMap(triciclos)\n",
    "    return adj.collect()"
   ]
  },
  {
   "cell_type": "code",
   "execution_count": 4,
   "metadata": {},
   "outputs": [
    {
     "data": {
      "text/plain": [
       "[(('C', 'D', 'E'), 'g4.txt'),\n",
       " (('A', 'B', 'C'), 'g4.txt'),\n",
       " (('A', 'C', 'E'), 'g4.txt'),\n",
       " (('A', 'E', 'F'), 'g4.txt'),\n",
       " (('A', 'B', 'D'), 'g1.txt'),\n",
       " (('A', 'C', 'D'), 'g1.txt'),\n",
       " (('B', 'C', 'D'), 'g1.txt'),\n",
       " (('A', 'B', 'C'), 'g1.txt')]"
      ]
     },
     "execution_count": 4,
     "metadata": {},
     "output_type": "execute_result"
    }
   ],
   "source": [
    "principal(sc,[\"g1.txt\",\"g4.txt\"])"
   ]
  }
 ],
 "metadata": {
  "kernelspec": {
   "display_name": "Python 3",
   "language": "python",
   "name": "python3"
  },
  "language_info": {
   "codemirror_mode": {
    "name": "ipython",
    "version": 3
   },
   "file_extension": ".py",
   "mimetype": "text/x-python",
   "name": "python",
   "nbconvert_exporter": "python",
   "pygments_lexer": "ipython3",
   "version": "3.8.5"
  }
 },
 "nbformat": 4,
 "nbformat_minor": 4
}
