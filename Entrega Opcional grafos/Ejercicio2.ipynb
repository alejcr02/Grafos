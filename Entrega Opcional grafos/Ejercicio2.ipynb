{
 "cells": [
  {
   "cell_type": "code",
   "execution_count": 3,
   "metadata": {},
   "outputs": [],
   "source": [
    "from pyspark import SparkContext\n",
    "sc = SparkContext()"
   ]
  },
  {
   "cell_type": "code",
   "execution_count": 6,
   "metadata": {},
   "outputs": [],
   "source": [
    "def get_edges(line):\n",
    "    edge = line.strip().split(',')\n",
    "    n1 = edge[0]\n",
    "    n2 = edge[1]\n",
    "    if n1 < n2:\n",
    "         return (n1,n2)\n",
    "    elif n1 > n2:\n",
    "         return (n2,n1)\n",
    "    else:\n",
    "        pass #n1 == n2\n",
    "\n",
    "def lista_aristas_dep(tupla):\n",
    "    aristas = []\n",
    "    for i in range(len(tupla[1])):\n",
    "        aristas.append(((tupla[0],tupla[1][i]),'exists'))\n",
    "        for j in range(i+1,len(tupla[1])):\n",
    "            if tupla[1][i] < tupla[1][j]:\n",
    "                aristas.append(((tupla[1][i],tupla[1][j]),('pending',tupla[0])))\n",
    "            else:\n",
    "                aristas.append(((tupla[1][j],tupla[1][i]),('pending',tupla[0])))\n",
    "    return aristas\n",
    "\n",
    "def filtro(tupla):\n",
    "    return (len(tupla[1]) >=2 and 'exists' in tupla[1])\n",
    "\n",
    "def triciclos(h):\n",
    "    l = []\n",
    "    for i in h[1]:\n",
    "        if i != 'exists':\n",
    "            l.append((i[1],h[0][0],h[0][1]))\n",
    "    return l\n",
    "\n",
    "def principal(sc,files):\n",
    "    rdd = sc.parallelize([])\n",
    "    for file_name in files:    \n",
    "        file_rdd = sc.textFile(file_name)\n",
    "        rdd = rdd.union(file_rdd)\n",
    "    fin = rdd.map(get_edges).filter(lambda x: x is not None).distinct()\n",
    "    adj = fin.groupByKey().mapValues(list).flatMap(lista_aristas_dep).\\\n",
    "        groupByKey().mapValues(list).filter(filtro).flatMap(triciclos)\n",
    "    return adj.collect()"
   ]
  },
  {
   "cell_type": "code",
   "execution_count": 7,
   "metadata": {},
   "outputs": [
    {
     "data": {
      "text/plain": [
       "[('B', <pyspark.resultiterable.ResultIterable at 0x7fb0346b45e0>),\n",
       " ('C', <pyspark.resultiterable.ResultIterable at 0x7fb0346b46d0>),\n",
       " ('D', <pyspark.resultiterable.ResultIterable at 0x7fb0346b4760>),\n",
       " ('A', <pyspark.resultiterable.ResultIterable at 0x7fb0346b47f0>),\n",
       " ('E', <pyspark.resultiterable.ResultIterable at 0x7fb0346b4820>)]"
      ]
     },
     "execution_count": 7,
     "metadata": {},
     "output_type": "execute_result"
    }
   ],
   "source": [
    "principal(sc,[\"g1.txt\",\"g4.txt\"])"
   ]
  },
  {
   "cell_type": "code",
   "execution_count": null,
   "metadata": {},
   "outputs": [],
   "source": []
  }
 ],
 "metadata": {
  "kernelspec": {
   "display_name": "Python 3",
   "language": "python",
   "name": "python3"
  },
  "language_info": {
   "codemirror_mode": {
    "name": "ipython",
    "version": 3
   },
   "file_extension": ".py",
   "mimetype": "text/x-python",
   "name": "python",
   "nbconvert_exporter": "python",
   "pygments_lexer": "ipython3",
   "version": "3.8.5"
  }
 },
 "nbformat": 4,
 "nbformat_minor": 4
}
